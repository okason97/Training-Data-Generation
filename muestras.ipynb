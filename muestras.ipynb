{
 "cells": [
  {
   "cell_type": "code",
   "execution_count": null,
   "metadata": {},
   "outputs": [],
   "source": [
    "import os\n",
    "#fake_d = '/mnt/data/datasets/rwth-SPADE-train-2022_06_27_16_44_03/train/'\n",
    "#fake_d = '/mnt/sda2/datasets/ReACGAN-ADC-DiffAug-train-2022_09_02_12_25_29/train/'\n",
    "fake_d = './classifier_results/real/rwth/ReACGAN-ADC-DiffAug-train-2022_09_02_12_25_29/train/'\n",
    "real_d = '/mnt/sda2/datasets/rwth/train/'"
   ]
  },
  {
   "cell_type": "code",
   "execution_count": null,
   "metadata": {},
   "outputs": [],
   "source": [
    "import matplotlib.pyplot as plt\n",
    "from matplotlib.image import imread\n",
    "\n",
    "def showImagesHorizontally(real_d, fake_d, n_real, n_fake, classes):\n",
    "    n_classes = len(classes)\n",
    "    fig, axs = plt.subplots(n_classes, n_real+n_fake)    \n",
    "    for i in range(n_classes):\n",
    "        real_list = os.listdir(os.path.join(real_d,classes[i]))\n",
    "        fake_list = os.listdir(os.path.join(fake_d,classes[i]))\n",
    "        for j in range(n_real):\n",
    "            image = imread(os.path.join(real_d,classes[i],real_list[j]))\n",
    "            axs[i, j].imshow(image)\n",
    "            axs[i, j].axis('off')\n",
    "        for j in range(n_fake):\n",
    "            image = imread(os.path.join(fake_d,classes[i],fake_list[j]))\n",
    "            axs[i, j+n_real].imshow(image)\n",
    "            axs[i, j+n_real].axis('off')"
   ]
  },
  {
   "cell_type": "code",
   "execution_count": null,
   "metadata": {},
   "outputs": [],
   "source": [
    "classes = os.listdir(real_d)\n",
    "showImagesHorizontally(real_d, fake_d, 2, 5, classes[8:10])"
   ]
  }
 ],
 "metadata": {
  "language_info": {
   "name": "python"
  },
  "orig_nbformat": 4
 },
 "nbformat": 4,
 "nbformat_minor": 2
}
